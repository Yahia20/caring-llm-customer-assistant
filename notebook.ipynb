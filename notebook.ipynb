{
 "cells": [
  {
   "cell_type": "markdown",
   "id": "9aabafca-8129-4943-b865-d5e897637253",
   "metadata": {},
   "source": [
    "![image](car.jpeg)\n",
    "\n",
    "**Car-ing is sharing**, an auto dealership company for car sales and rental, is taking their services to the next level thanks to **Large Language Models (LLMs)**.\n",
    "\n",
    "As their newly recruited AI and NLP developer, you've been asked to prototype a chatbot app with multiple functionalities that not only assist customers but also provide support to human agents in the company.\n",
    "\n",
    "The solution should receive textual prompts and use a variety of pre-trained Hugging Face LLMs to respond to a series of tasks, e.g. classifying the sentiment in a car’s text review, answering a customer question, summarizing or translating text, etc.\n"
   ]
  },
  {
   "cell_type": "code",
   "execution_count": 18,
   "id": "5325a4c0-ceb3-4b66-acd2-5eadcefe3a63",
   "metadata": {
    "collapsed": false,
    "executionCancelledAt": null,
    "executionTime": 3729,
    "jupyter": {
     "outputs_hidden": false,
     "source_hidden": false
    },
    "lastExecutedAt": 1742903661842,
    "lastExecutedByKernel": "213ae9ca-292b-42c1-9555-4af0d572a0c2",
    "lastScheduledRunId": null,
    "lastSuccessfullyExecutedCode": "# Import necessary packages\nimport pandas as pd\nimport torch\n\nfrom transformers import logging\nlogging.set_verbosity(logging.WARNING)",
    "outputsMetadata": {
     "0": {
      "height": 553,
      "type": "stream"
     }
    }
   },
   "outputs": [],
   "source": [
    "# Import necessary packages\n",
    "import pandas as pd\n",
    "import torch\n",
    "\n",
    "from transformers import logging\n",
    "logging.set_verbosity(logging.WARNING)"
   ]
  },
  {
   "cell_type": "code",
   "execution_count": 19,
   "id": "6c3a3bf7-8675-4fdf-8580-0c69b58f471e",
   "metadata": {
    "executionCancelledAt": null,
    "executionTime": 46,
    "lastExecutedAt": 1730797704457,
    "lastExecutedByKernel": "4dfc7578-341a-4ffd-ad4c-afc159d5a08e",
    "lastScheduledRunId": null,
    "lastSuccessfullyExecutedCode": "# Start your code here!"
   },
   "outputs": [
    {
     "name": "stdout",
     "output_type": "stream",
     "text": [
      "(5, 2)\n"
     ]
    },
    {
     "data": {
      "text/html": [
       "<div>\n",
       "<style scoped>\n",
       "    .dataframe tbody tr th:only-of-type {\n",
       "        vertical-align: middle;\n",
       "    }\n",
       "\n",
       "    .dataframe tbody tr th {\n",
       "        vertical-align: top;\n",
       "    }\n",
       "\n",
       "    .dataframe thead th {\n",
       "        text-align: right;\n",
       "    }\n",
       "</style>\n",
       "<table border=\"1\" class=\"dataframe\">\n",
       "  <thead>\n",
       "    <tr style=\"text-align: right;\">\n",
       "      <th></th>\n",
       "      <th>Review</th>\n",
       "      <th>Class</th>\n",
       "    </tr>\n",
       "  </thead>\n",
       "  <tbody>\n",
       "    <tr>\n",
       "      <th>0</th>\n",
       "      <td>I am very satisfied with my 2014 Nissan NV SL....</td>\n",
       "      <td>POSITIVE</td>\n",
       "    </tr>\n",
       "    <tr>\n",
       "      <th>1</th>\n",
       "      <td>The car is fine. It's a bit loud and not very ...</td>\n",
       "      <td>NEGATIVE</td>\n",
       "    </tr>\n",
       "    <tr>\n",
       "      <th>2</th>\n",
       "      <td>My first foreign car. Love it, I would buy ano...</td>\n",
       "      <td>POSITIVE</td>\n",
       "    </tr>\n",
       "    <tr>\n",
       "      <th>3</th>\n",
       "      <td>I've come across numerous reviews praising the...</td>\n",
       "      <td>NEGATIVE</td>\n",
       "    </tr>\n",
       "    <tr>\n",
       "      <th>4</th>\n",
       "      <td>I've been dreaming of owning an SUV for quite ...</td>\n",
       "      <td>POSITIVE</td>\n",
       "    </tr>\n",
       "  </tbody>\n",
       "</table>\n",
       "</div>"
      ],
      "text/plain": [
       "                                              Review     Class\n",
       "0  I am very satisfied with my 2014 Nissan NV SL....  POSITIVE\n",
       "1  The car is fine. It's a bit loud and not very ...  NEGATIVE\n",
       "2  My first foreign car. Love it, I would buy ano...  POSITIVE\n",
       "3  I've come across numerous reviews praising the...  NEGATIVE\n",
       "4  I've been dreaming of owning an SUV for quite ...  POSITIVE"
      ]
     },
     "execution_count": 19,
     "metadata": {},
     "output_type": "execute_result"
    }
   ],
   "source": [
    "car_reviews = pd.read_csv('car_reviews.csv', sep=';')\n",
    "\n",
    "print(car_reviews.shape)\n",
    "car_reviews.head()"
   ]
  },
  {
   "cell_type": "code",
   "execution_count": 20,
   "id": "ffddf71e",
   "metadata": {},
   "outputs": [
    {
     "data": {
      "text/plain": [
       "'I am very satisfied with my 2014 Nissan NV SL. I use this van for my business deliveries and personal use. Camping, road trips, etc. We dont have any children so I store most of the seats in my warehouse. I wanted the passenger van for the rear air conditioning. We drove our van from Florida to California for a Cross Country trip in 2014. We averaged about 18 mpg. We drove thru a lot of rain and It was a very comfortable and stable vehicle. The V8 Nissan Titan engine is a 500k mile engine. It has been tested many times by delivery and trucking companies. This is why Nissan gives you a 5 year or 100k mile bumper to bumper warranty. Many people are scared about driving this van because of its size. But with front and rear sonar sensors, large mirrors and the back up camera. It is easy to drive. The front and rear sensors also monitor the front and rear sides of the bumpers making it easier to park close to objects. Our Nissan NV is a Tow Monster. It pulls our 5000 pound travel trailer like its not even there. I have plenty of power to pass a vehicle if needed. The 5.6 liter engine produces 317 hp. I have owned Chevy and Ford vans and there were not very comfortable and had little cockpit room. The Nissan NV is the only vehicle made that has the engine forward like a pick up truck giving the driver plenty of room and comfort in the cockpit area. I dont have any negatives to say about my NV. This is a wide vehicle. The only modification I would like to see from Nissan is for them to add amber side mirror marker lights.BTW. I now own a 2016 Nissan NVP SL. Love it.'"
      ]
     },
     "execution_count": 20,
     "metadata": {},
     "output_type": "execute_result"
    }
   ],
   "source": [
    "car_reviews.Review.iloc[0]"
   ]
  },
  {
   "cell_type": "code",
   "execution_count": 21,
   "id": "8eb72314",
   "metadata": {},
   "outputs": [
    {
     "name": "stdout",
     "output_type": "stream",
     "text": [
      "[{'label': 'POSITIVE', 'score': 0.929397702217102}, {'label': 'POSITIVE', 'score': 0.8654271364212036}, {'label': 'POSITIVE', 'score': 0.9994640946388245}, {'label': 'NEGATIVE', 'score': 0.9935314059257507}, {'label': 'POSITIVE', 'score': 0.9986565113067627}]\n"
     ]
    }
   ],
   "source": [
    "from transformers import pipeline\n",
    "\n",
    "# Load a lightweight sentiment analysis pipeline\n",
    "sentiment_analyzer = pipeline(\"sentiment-analysis\", model=\"distilbert-base-uncased-finetuned-sst-2-english\")\n",
    "\n",
    "# Analyze sentiment for all car reviews\n",
    "results = sentiment_analyzer(list(car_reviews.Review))\n",
    "print(results)"
   ]
  },
  {
   "cell_type": "code",
   "execution_count": 22,
   "id": "f8468c18",
   "metadata": {},
   "outputs": [
    {
     "name": "stdout",
     "output_type": "stream",
     "text": [
      "Accuracy: {'accuracy': 0.8}\n",
      "F1 Score: {'f1': 0.8571428571428571}\n"
     ]
    }
   ],
   "source": [
    "import evaluate\n",
    "\n",
    "accuracy = evaluate.load('accuracy')\n",
    "# Store the model outputs in predicted_labels\n",
    "predicted_labels = [res['label'] for res in results]\n",
    "\n",
    "# Map 'POSITIVE' to 1 and 'NEGATIVE' to 0\n",
    "label_map = {'POSITIVE': 1, 'NEGATIVE': 0}\n",
    "predictions = [label_map[label] for label in predicted_labels]\n",
    "\n",
    "# Extract ground truth labels and map to binary\n",
    "references = [label_map[label] for label in car_reviews['Class']]\n",
    "\n",
    "# Evaluate accuracy and F1 score\n",
    "accuracy_result = accuracy.compute(predictions=predictions, references=references)\n",
    "f1 = evaluate.load('f1')\n",
    "f1_result = f1.compute(predictions=predictions, references=references, average='binary')\n",
    "\n",
    "print(\"Accuracy:\", accuracy_result)\n",
    "print(\"F1 Score:\", f1_result)"
   ]
  },
  {
   "cell_type": "code",
   "execution_count": 23,
   "id": "9eef7770",
   "metadata": {},
   "outputs": [
    {
     "name": "stdout",
     "output_type": "stream",
     "text": [
      "Requirement already satisfied: sentencepiece in c:\\users\\el-wattaneya\\appdata\\local\\programs\\python\\python312\\lib\\site-packages (0.2.0)\n",
      "Note: you may need to restart the kernel to use updated packages.\n"
     ]
    },
    {
     "name": "stderr",
     "output_type": "stream",
     "text": [
      "c:\\Users\\El-Wattaneya\\AppData\\Local\\Programs\\Python\\Python312\\Lib\\site-packages\\transformers\\models\\marian\\tokenization_marian.py:175: UserWarning: Recommended: pip install sacremoses.\n",
      "  warnings.warn(\"Recommended: pip install sacremoses.\")\n"
     ]
    }
   ],
   "source": [
    "%pip install sentencepiece\n",
    "\n",
    "from transformers import pipeline\n",
    "\n",
    "# Load a lightweight English-to-Spanish translation pipeline\n",
    "translator = pipeline(\"translation_en_to_es\", model=\"Helsinki-NLP/opus-mt-en-es\")\n"
   ]
  },
  {
   "cell_type": "code",
   "execution_count": 24,
   "id": "1e2060b6",
   "metadata": {},
   "outputs": [
    {
     "name": "stdout",
     "output_type": "stream",
     "text": [
      "I am very satisfied with my 2014 Nissan NV SL. I use this van for my business deliveries and personal use.\n"
     ]
    }
   ],
   "source": [
    "import re\n",
    "\n",
    "text = car_reviews.Review.iloc[0]\n",
    "sentences = re.split(r'(?<=[.!?])\\s+', text)\n",
    "first_two = ' '.join(sentences[:2])\n",
    "print(first_two)"
   ]
  },
  {
   "cell_type": "code",
   "execution_count": 25,
   "id": "bc1dd50f",
   "metadata": {},
   "outputs": [
    {
     "name": "stdout",
     "output_type": "stream",
     "text": [
      "[{'translation_text': 'Estoy muy satisfecho con mi Nissan NV SL 2014. Uso esta camioneta para mis entregas de negocios y uso personal.'}]\n"
     ]
    },
    {
     "data": {
      "text/plain": [
       "'Estoy muy satisfecho con mi Nissan NV SL 2014. Uso esta camioneta para mis entregas de negocios y uso personal.'"
      ]
     },
     "execution_count": 25,
     "metadata": {},
     "output_type": "execute_result"
    }
   ],
   "source": [
    "print(translator(first_two))\n",
    "translated_review = translator(first_two)[0]['translation_text']\n",
    "translated_review"
   ]
  },
  {
   "cell_type": "code",
   "execution_count": 26,
   "id": "7a3ac34d",
   "metadata": {},
   "outputs": [
    {
     "data": {
      "text/plain": [
       "['Estoy muy satisfecho con mi Nissan NV SL 2014. Utilizo esta camioneta para mis entregas comerciales y uso personal.',\n",
       " 'Estoy muy satisfecho con mi Nissan NV SL 2014. Uso esta furgoneta para mis entregas comerciales y uso personal.']"
      ]
     },
     "execution_count": 26,
     "metadata": {},
     "output_type": "execute_result"
    }
   ],
   "source": [
    "with open('reference_translations.txt', 'r', encoding='utf-8') as f:\n",
    "\treference_translations = [line.strip() for line in f if line.strip()]\n",
    "\t\n",
    "reference_translations[:]  "
   ]
  },
  {
   "cell_type": "code",
   "execution_count": 27,
   "id": "6c7607a5",
   "metadata": {},
   "outputs": [
    {
     "data": {
      "text/plain": [
       "[{'predictions': Value(dtype='string', id='sequence'),\n",
       "  'references': Sequence(feature=Value(dtype='string', id='sequence'), length=-1, id='references')},\n",
       " {'predictions': Value(dtype='string', id='sequence'),\n",
       "  'references': Value(dtype='string', id='sequence')}]"
      ]
     },
     "execution_count": 27,
     "metadata": {},
     "output_type": "execute_result"
    }
   ],
   "source": [
    "BLEU = evaluate.load('bleu')\n",
    "\n",
    "BLEU.features"
   ]
  },
  {
   "cell_type": "code",
   "execution_count": 28,
   "id": "218e3f45",
   "metadata": {},
   "outputs": [
    {
     "data": {
      "text/plain": [
       "{'bleu': 0.7794483794144498,\n",
       " 'precisions': [0.9090909090909091,\n",
       "  0.8571428571428571,\n",
       "  0.75,\n",
       "  0.631578947368421],\n",
       " 'brevity_penalty': 1.0,\n",
       " 'length_ratio': 1.0476190476190477,\n",
       " 'translation_length': 22,\n",
       " 'reference_length': 21}"
      ]
     },
     "execution_count": 28,
     "metadata": {},
     "output_type": "execute_result"
    }
   ],
   "source": [
    "bleu_score= BLEU.compute(predictions=[translated_review], references=[reference_translations])\n",
    "bleu_score"
   ]
  }
 ],
 "metadata": {
  "editor": "DataLab",
  "kernelspec": {
   "display_name": "Python 3",
   "language": "python",
   "name": "python3"
  },
  "language_info": {
   "codemirror_mode": {
    "name": "ipython",
    "version": 3
   },
   "file_extension": ".py",
   "mimetype": "text/x-python",
   "name": "python",
   "nbconvert_exporter": "python",
   "pygments_lexer": "ipython3",
   "version": "3.12.5"
  }
 },
 "nbformat": 4,
 "nbformat_minor": 5
}
