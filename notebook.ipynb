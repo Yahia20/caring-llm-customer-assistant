{
 "cells": [
  {
   "cell_type": "markdown",
   "id": "9aabafca-8129-4943-b865-d5e897637253",
   "metadata": {},
   "source": [
    "![image](car.jpeg)\n",
    "\n",
    "\n"
   ]
  },
  {
   "cell_type": "markdown",
   "id": "19457781",
   "metadata": {},
   "source": [
    "# 🚀 Chatbot Prototype for \"Car-ing is Sharing\" using Hugging Face Transformers\n",
    "\n",
    "Welcome to the prototype implementation of a multi-functional chatbot built for **Car-ing is Sharing**, an innovative car dealership and rental company. This bot leverages **pre-trained Large Language Models (LLMs)** from Hugging Face to perform a variety of customer-facing NLP tasks, including:\n",
    "\n",
    "- Sentiment classification of car reviews\n",
    "- English-to-Spanish translation\n",
    "- Question answering\n",
    "- Text summarization\n",
    "\n",
    "---\n",
    "\n",
    "## 📦 1. Environment Setup\n",
    "\n",
    "Import required libraries and suppress unnecessary warnings from Transformers.\n",
    "\n",
    "\n"
   ]
  },
  {
   "cell_type": "code",
   "execution_count": 18,
   "id": "5325a4c0-ceb3-4b66-acd2-5eadcefe3a63",
   "metadata": {
    "collapsed": false,
    "executionCancelledAt": null,
    "executionTime": 3729,
    "jupyter": {
     "outputs_hidden": false,
     "source_hidden": false
    },
    "lastExecutedAt": 1742903661842,
    "lastExecutedByKernel": "213ae9ca-292b-42c1-9555-4af0d572a0c2",
    "lastScheduledRunId": null,
    "lastSuccessfullyExecutedCode": "# Import necessary packages\nimport pandas as pd\nimport torch\n\nfrom transformers import logging\nlogging.set_verbosity(logging.WARNING)",
    "outputsMetadata": {
     "0": {
      "height": 553,
      "type": "stream"
     }
    }
   },
   "outputs": [],
   "source": [
    "# Import necessary packages\n",
    "import pandas as pd\n",
    "import torch\n",
    "\n",
    "from transformers import logging\n",
    "logging.set_verbosity(logging.WARNING)"
   ]
  },
  {
   "cell_type": "markdown",
   "id": "5c82ef7e",
   "metadata": {},
   "source": [
    "# 📂 2. Load Dataset\n",
    "\n",
    "Read in the car reviews dataset car_reviews.csv, which contains customer reviews and sentiment labels.\n",
    "\n",
    "\n"
   ]
  },
  {
   "cell_type": "code",
   "execution_count": 19,
   "id": "6c3a3bf7-8675-4fdf-8580-0c69b58f471e",
   "metadata": {
    "executionCancelledAt": null,
    "executionTime": 46,
    "lastExecutedAt": 1730797704457,
    "lastExecutedByKernel": "4dfc7578-341a-4ffd-ad4c-afc159d5a08e",
    "lastScheduledRunId": null,
    "lastSuccessfullyExecutedCode": "# Start your code here!"
   },
   "outputs": [
    {
     "name": "stdout",
     "output_type": "stream",
     "text": [
      "(5, 2)\n"
     ]
    },
    {
     "data": {
      "text/html": [
       "<div>\n",
       "<style scoped>\n",
       "    .dataframe tbody tr th:only-of-type {\n",
       "        vertical-align: middle;\n",
       "    }\n",
       "\n",
       "    .dataframe tbody tr th {\n",
       "        vertical-align: top;\n",
       "    }\n",
       "\n",
       "    .dataframe thead th {\n",
       "        text-align: right;\n",
       "    }\n",
       "</style>\n",
       "<table border=\"1\" class=\"dataframe\">\n",
       "  <thead>\n",
       "    <tr style=\"text-align: right;\">\n",
       "      <th></th>\n",
       "      <th>Review</th>\n",
       "      <th>Class</th>\n",
       "    </tr>\n",
       "  </thead>\n",
       "  <tbody>\n",
       "    <tr>\n",
       "      <th>0</th>\n",
       "      <td>I am very satisfied with my 2014 Nissan NV SL....</td>\n",
       "      <td>POSITIVE</td>\n",
       "    </tr>\n",
       "    <tr>\n",
       "      <th>1</th>\n",
       "      <td>The car is fine. It's a bit loud and not very ...</td>\n",
       "      <td>NEGATIVE</td>\n",
       "    </tr>\n",
       "    <tr>\n",
       "      <th>2</th>\n",
       "      <td>My first foreign car. Love it, I would buy ano...</td>\n",
       "      <td>POSITIVE</td>\n",
       "    </tr>\n",
       "    <tr>\n",
       "      <th>3</th>\n",
       "      <td>I've come across numerous reviews praising the...</td>\n",
       "      <td>NEGATIVE</td>\n",
       "    </tr>\n",
       "    <tr>\n",
       "      <th>4</th>\n",
       "      <td>I've been dreaming of owning an SUV for quite ...</td>\n",
       "      <td>POSITIVE</td>\n",
       "    </tr>\n",
       "  </tbody>\n",
       "</table>\n",
       "</div>"
      ],
      "text/plain": [
       "                                              Review     Class\n",
       "0  I am very satisfied with my 2014 Nissan NV SL....  POSITIVE\n",
       "1  The car is fine. It's a bit loud and not very ...  NEGATIVE\n",
       "2  My first foreign car. Love it, I would buy ano...  POSITIVE\n",
       "3  I've come across numerous reviews praising the...  NEGATIVE\n",
       "4  I've been dreaming of owning an SUV for quite ...  POSITIVE"
      ]
     },
     "execution_count": 19,
     "metadata": {},
     "output_type": "execute_result"
    }
   ],
   "source": [
    "car_reviews = pd.read_csv('car_reviews.csv', sep=';')\n",
    "\n",
    "print(car_reviews.shape)\n",
    "car_reviews.head()"
   ]
  },
  {
   "cell_type": "markdown",
   "id": "8181f7f3",
   "metadata": {},
   "source": [
    "# 🔍 3. View Sample Review\n",
    "Preview the first review in the dataset.\n",
    "\n",
    "\n"
   ]
  },
  {
   "cell_type": "code",
   "execution_count": 20,
   "id": "ffddf71e",
   "metadata": {},
   "outputs": [
    {
     "data": {
      "text/plain": [
       "'I am very satisfied with my 2014 Nissan NV SL. I use this van for my business deliveries and personal use. Camping, road trips, etc. We dont have any children so I store most of the seats in my warehouse. I wanted the passenger van for the rear air conditioning. We drove our van from Florida to California for a Cross Country trip in 2014. We averaged about 18 mpg. We drove thru a lot of rain and It was a very comfortable and stable vehicle. The V8 Nissan Titan engine is a 500k mile engine. It has been tested many times by delivery and trucking companies. This is why Nissan gives you a 5 year or 100k mile bumper to bumper warranty. Many people are scared about driving this van because of its size. But with front and rear sonar sensors, large mirrors and the back up camera. It is easy to drive. The front and rear sensors also monitor the front and rear sides of the bumpers making it easier to park close to objects. Our Nissan NV is a Tow Monster. It pulls our 5000 pound travel trailer like its not even there. I have plenty of power to pass a vehicle if needed. The 5.6 liter engine produces 317 hp. I have owned Chevy and Ford vans and there were not very comfortable and had little cockpit room. The Nissan NV is the only vehicle made that has the engine forward like a pick up truck giving the driver plenty of room and comfort in the cockpit area. I dont have any negatives to say about my NV. This is a wide vehicle. The only modification I would like to see from Nissan is for them to add amber side mirror marker lights.BTW. I now own a 2016 Nissan NVP SL. Love it.'"
      ]
     },
     "execution_count": 20,
     "metadata": {},
     "output_type": "execute_result"
    }
   ],
   "source": [
    "car_reviews.Review.iloc[0]"
   ]
  },
  {
   "cell_type": "markdown",
   "id": "ad2a57ed",
   "metadata": {},
   "source": [
    "# 💬 4. Sentiment Classification\n",
    "Use a lightweight sentiment classifier to analyze all reviews in the dataset.\n",
    "\n",
    "\n"
   ]
  },
  {
   "cell_type": "code",
   "execution_count": 21,
   "id": "8eb72314",
   "metadata": {},
   "outputs": [
    {
     "name": "stdout",
     "output_type": "stream",
     "text": [
      "[{'label': 'POSITIVE', 'score': 0.929397702217102}, {'label': 'POSITIVE', 'score': 0.8654271364212036}, {'label': 'POSITIVE', 'score': 0.9994640946388245}, {'label': 'NEGATIVE', 'score': 0.9935314059257507}, {'label': 'POSITIVE', 'score': 0.9986565113067627}]\n"
     ]
    }
   ],
   "source": [
    "from transformers import pipeline\n",
    "\n",
    "# Load a lightweight sentiment analysis pipeline\n",
    "sentiment_analyzer = pipeline(\"sentiment-analysis\", model=\"distilbert-base-uncased-finetuned-sst-2-english\")\n",
    "\n",
    "# Analyze sentiment for all car reviews\n",
    "results = sentiment_analyzer(list(car_reviews.Review))\n",
    "print(results)"
   ]
  },
  {
   "cell_type": "markdown",
   "id": "0453a41c",
   "metadata": {},
   "source": [
    "# 📊 5. Evaluation Metrics\n",
    "Calculate Accuracy and F1 Score to evaluate model performance.\n",
    "\n"
   ]
  },
  {
   "cell_type": "code",
   "execution_count": 22,
   "id": "f8468c18",
   "metadata": {},
   "outputs": [
    {
     "name": "stdout",
     "output_type": "stream",
     "text": [
      "Accuracy: {'accuracy': 0.8}\n",
      "F1 Score: {'f1': 0.8571428571428571}\n"
     ]
    }
   ],
   "source": [
    "import evaluate\n",
    "\n",
    "accuracy = evaluate.load('accuracy')\n",
    "# Store the model outputs in predicted_labels\n",
    "predicted_labels = [res['label'] for res in results]\n",
    "\n",
    "# Map 'POSITIVE' to 1 and 'NEGATIVE' to 0\n",
    "label_map = {'POSITIVE': 1, 'NEGATIVE': 0}\n",
    "predictions = [label_map[label] for label in predicted_labels]\n",
    "\n",
    "# Extract ground truth labels and map to binary\n",
    "references = [label_map[label] for label in car_reviews['Class']]\n",
    "\n",
    "# Evaluate accuracy and F1 score\n",
    "accuracy_result = accuracy.compute(predictions=predictions, references=references)\n",
    "f1 = evaluate.load('f1')\n",
    "f1_result = f1.compute(predictions=predictions, references=references, average='binary')\n",
    "\n",
    "print(\"Accuracy:\", accuracy_result)\n",
    "print(\"F1 Score:\", f1_result)"
   ]
  },
  {
   "cell_type": "markdown",
   "id": "7e4c94fc",
   "metadata": {},
   "source": [
    "# 🌐 6. English-to-Spanish Translation\n",
    "Install SentencePiece and load a translation model to support Spanish-speaking customers.\n",
    "\n",
    "\n"
   ]
  },
  {
   "cell_type": "code",
   "execution_count": 23,
   "id": "9eef7770",
   "metadata": {},
   "outputs": [
    {
     "name": "stdout",
     "output_type": "stream",
     "text": [
      "Requirement already satisfied: sentencepiece in c:\\users\\el-wattaneya\\appdata\\local\\programs\\python\\python312\\lib\\site-packages (0.2.0)\n",
      "Note: you may need to restart the kernel to use updated packages.\n"
     ]
    },
    {
     "name": "stderr",
     "output_type": "stream",
     "text": [
      "c:\\Users\\El-Wattaneya\\AppData\\Local\\Programs\\Python\\Python312\\Lib\\site-packages\\transformers\\models\\marian\\tokenization_marian.py:175: UserWarning: Recommended: pip install sacremoses.\n",
      "  warnings.warn(\"Recommended: pip install sacremoses.\")\n"
     ]
    }
   ],
   "source": [
    "%pip install sentencepiece\n",
    "\n",
    "from transformers import pipeline\n",
    "\n",
    "# Load a lightweight English-to-Spanish translation pipeline\n",
    "translator = pipeline(\"translation_en_to_es\", model=\"Helsinki-NLP/opus-mt-en-es\")\n"
   ]
  },
  {
   "cell_type": "markdown",
   "id": "d022d868",
   "metadata": {},
   "source": [
    "## ✂️ Extract First Two Sentences for Translation\n"
   ]
  },
  {
   "cell_type": "code",
   "execution_count": 24,
   "id": "1e2060b6",
   "metadata": {},
   "outputs": [
    {
     "name": "stdout",
     "output_type": "stream",
     "text": [
      "I am very satisfied with my 2014 Nissan NV SL. I use this van for my business deliveries and personal use.\n"
     ]
    }
   ],
   "source": [
    "import re\n",
    "\n",
    "text = car_reviews.Review.iloc[0]\n",
    "sentences = re.split(r'(?<=[.!?])\\s+', text)\n",
    "first_two = ' '.join(sentences[:2])\n",
    "print(first_two)"
   ]
  },
  {
   "cell_type": "markdown",
   "id": "8ca94496",
   "metadata": {},
   "source": [
    "## 🔁 Translate and Store Output"
   ]
  },
  {
   "cell_type": "code",
   "execution_count": 25,
   "id": "bc1dd50f",
   "metadata": {},
   "outputs": [
    {
     "name": "stdout",
     "output_type": "stream",
     "text": [
      "[{'translation_text': 'Estoy muy satisfecho con mi Nissan NV SL 2014. Uso esta camioneta para mis entregas de negocios y uso personal.'}]\n"
     ]
    },
    {
     "data": {
      "text/plain": [
       "'Estoy muy satisfecho con mi Nissan NV SL 2014. Uso esta camioneta para mis entregas de negocios y uso personal.'"
      ]
     },
     "execution_count": 25,
     "metadata": {},
     "output_type": "execute_result"
    }
   ],
   "source": [
    "print(translator(first_two))\n",
    "translated_review = translator(first_two)[0]['translation_text']\n",
    "translated_review"
   ]
  },
  {
   "cell_type": "markdown",
   "id": "b0c270e6",
   "metadata": {},
   "source": [
    "## 📏 Evaluate Translation with BLEU Score\n",
    "Load reference translations and compute BLEU score"
   ]
  },
  {
   "cell_type": "code",
   "execution_count": 26,
   "id": "7a3ac34d",
   "metadata": {},
   "outputs": [
    {
     "data": {
      "text/plain": [
       "['Estoy muy satisfecho con mi Nissan NV SL 2014. Utilizo esta camioneta para mis entregas comerciales y uso personal.',\n",
       " 'Estoy muy satisfecho con mi Nissan NV SL 2014. Uso esta furgoneta para mis entregas comerciales y uso personal.']"
      ]
     },
     "execution_count": 26,
     "metadata": {},
     "output_type": "execute_result"
    }
   ],
   "source": [
    "with open('reference_translations.txt', 'r', encoding='utf-8') as f:\n",
    "\treference_translations = [line.strip() for line in f if line.strip()]\n",
    "\t\n",
    "reference_translations[:]  "
   ]
  },
  {
   "cell_type": "code",
   "execution_count": 27,
   "id": "6c7607a5",
   "metadata": {},
   "outputs": [
    {
     "data": {
      "text/plain": [
       "[{'predictions': Value(dtype='string', id='sequence'),\n",
       "  'references': Sequence(feature=Value(dtype='string', id='sequence'), length=-1, id='references')},\n",
       " {'predictions': Value(dtype='string', id='sequence'),\n",
       "  'references': Value(dtype='string', id='sequence')}]"
      ]
     },
     "execution_count": 27,
     "metadata": {},
     "output_type": "execute_result"
    }
   ],
   "source": [
    "BLEU = evaluate.load('bleu')\n",
    "\n",
    "BLEU.features"
   ]
  },
  {
   "cell_type": "code",
   "execution_count": 28,
   "id": "218e3f45",
   "metadata": {},
   "outputs": [
    {
     "data": {
      "text/plain": [
       "{'bleu': 0.7794483794144498,\n",
       " 'precisions': [0.9090909090909091,\n",
       "  0.8571428571428571,\n",
       "  0.75,\n",
       "  0.631578947368421],\n",
       " 'brevity_penalty': 1.0,\n",
       " 'length_ratio': 1.0476190476190477,\n",
       " 'translation_length': 22,\n",
       " 'reference_length': 21}"
      ]
     },
     "execution_count": 28,
     "metadata": {},
     "output_type": "execute_result"
    }
   ],
   "source": [
    "bleu_score= BLEU.compute(predictions=[translated_review], references=[reference_translations])\n",
    "bleu_score"
   ]
  },
  {
   "cell_type": "markdown",
   "id": "7d05936c",
   "metadata": {},
   "source": [
    "# ❓ 7. Extractive Question Answering (QA)\n",
    "Use a lightweight QA model to answer questions based on the second review"
   ]
  },
  {
   "cell_type": "code",
   "execution_count": 30,
   "id": "c70bf9de",
   "metadata": {},
   "outputs": [
    {
     "data": {
      "text/plain": [
       "\"The car is fine. It's a bit loud and not very powerful. On one hand, compared to its peers, the interior is well-built. The transmission failed a few years ago, and the dealer replaced it under warranty with no issues. Now, about 60k miles later, the transmission is failing again. It sounds like a truck, and the issues are well-documented. The dealer tells me it is normal, refusing to do anything to resolve the issue. After owning the car for 4 years, there are many other vehicles I would purchase over this one. Initially, I really liked what the brand is about: ride quality, reliability, etc. But I will not purchase another one. Despite these concerns, I must say, the level of comfort in the car has always been satisfactory, but not worth the rest of issues found.\""
      ]
     },
     "execution_count": 30,
     "metadata": {},
     "output_type": "execute_result"
    }
   ],
   "source": [
    "car_reviews.Review.iloc[1]"
   ]
  },
  {
   "cell_type": "code",
   "execution_count": 33,
   "id": "782b0f03",
   "metadata": {},
   "outputs": [
    {
     "data": {
      "application/vnd.jupyter.widget-view+json": {
       "model_id": "2b12453a3f184d7aa3d535ee9cd26013",
       "version_major": 2,
       "version_minor": 0
      },
      "text/plain": [
       "model.safetensors:   0%|          | 0.00/133M [00:00<?, ?B/s]"
      ]
     },
     "metadata": {},
     "output_type": "display_data"
    },
    {
     "name": "stderr",
     "output_type": "stream",
     "text": [
      "Some weights of the model checkpoint at deepset/minilm-uncased-squad2 were not used when initializing BertForQuestionAnswering: ['bert.pooler.dense.bias', 'bert.pooler.dense.weight']\n",
      "- This IS expected if you are initializing BertForQuestionAnswering from the checkpoint of a model trained on another task or with another architecture (e.g. initializing a BertForSequenceClassification model from a BertForPreTraining model).\n",
      "- This IS NOT expected if you are initializing BertForQuestionAnswering from the checkpoint of a model that you expect to be exactly identical (initializing a BertForSequenceClassification model from a BertForSequenceClassification model).\n"
     ]
    },
    {
     "data": {
      "application/vnd.jupyter.widget-view+json": {
       "model_id": "a3ed37774bd6402fb8922dc294676913",
       "version_major": 2,
       "version_minor": 0
      },
      "text/plain": [
       "tokenizer_config.json:   0%|          | 0.00/107 [00:00<?, ?B/s]"
      ]
     },
     "metadata": {},
     "output_type": "display_data"
    },
    {
     "data": {
      "application/vnd.jupyter.widget-view+json": {
       "model_id": "15ba60da569544ca9f3e6daf5fd8d165",
       "version_major": 2,
       "version_minor": 0
      },
      "text/plain": [
       "vocab.txt: 0.00B [00:00, ?B/s]"
      ]
     },
     "metadata": {},
     "output_type": "display_data"
    },
    {
     "data": {
      "application/vnd.jupyter.widget-view+json": {
       "model_id": "3a96b11021754c8bb59a9005020597dd",
       "version_major": 2,
       "version_minor": 0
      },
      "text/plain": [
       "special_tokens_map.json:   0%|          | 0.00/112 [00:00<?, ?B/s]"
      ]
     },
     "metadata": {},
     "output_type": "display_data"
    },
    {
     "data": {
      "text/plain": [
       "'ride quality, reliability'"
      ]
     },
     "execution_count": 33,
     "metadata": {},
     "output_type": "execute_result"
    }
   ],
   "source": [
    "QA_LLM = pipeline('question-answering', model=\"deepset/minilm-uncased-squad2\")\n",
    "\n",
    "question = \"What did he like about the brand?\"\n",
    "context = car_reviews.Review.iloc[1]\n",
    "\n",
    "result = QA_LLM(question=question, context=context)\n",
    "answer = result['answer']\n",
    "answer"
   ]
  },
  {
   "cell_type": "markdown",
   "id": "ccc51683",
   "metadata": {},
   "source": [
    "## 🧠 QA Result Object\n"
   ]
  },
  {
   "cell_type": "code",
   "execution_count": 34,
   "id": "9f000145",
   "metadata": {},
   "outputs": [
    {
     "data": {
      "text/plain": [
       "{'score': 0.4773615002632141,\n",
       " 'start': 569,\n",
       " 'end': 594,\n",
       " 'answer': 'ride quality, reliability'}"
      ]
     },
     "execution_count": 34,
     "metadata": {},
     "output_type": "execute_result"
    }
   ],
   "source": [
    "result"
   ]
  },
  {
   "cell_type": "markdown",
   "id": "2be1e88d",
   "metadata": {},
   "source": [
    "## 🔁 (Optional) Extract Multiple Answers by Sentence\n",
    "Split the review into sentences and run QA per sentence for richer answers.\n",
    "\n",
    "\n"
   ]
  },
  {
   "cell_type": "code",
   "execution_count": null,
   "id": "6eddd533",
   "metadata": {},
   "outputs": [
    {
     "name": "stdout",
     "output_type": "stream",
     "text": [
      "['The car is fine', 'normal', 'ride quality, reliability']\n"
     ]
    }
   ],
   "source": [
    "from nltk import sent_tokenize\n",
    "\n",
    "sentences = sent_tokenize(context)\n",
    "answers = []\n",
    "\n",
    "for sent in sentences:\n",
    "    result = QA_LLM(question=question, context=sent)\n",
    "    if result['score'] > 0.3:  \n",
    "        answers.append(result['answer'])\n",
    "\n",
    "answers = list(set(answers))  \n",
    "print(answers)"
   ]
  },
  {
   "cell_type": "markdown",
   "id": "f5ae35d8",
   "metadata": {},
   "source": [
    "# 📝 8. Summarization\n",
    "Summarize the last review into ~50-55 tokens using a lightweight summarization model.\n"
   ]
  },
  {
   "cell_type": "code",
   "execution_count": 41,
   "id": "86e5e702",
   "metadata": {},
   "outputs": [
    {
     "data": {
      "application/vnd.jupyter.widget-view+json": {
       "model_id": "a2baa6d142ff4e12bac7bced5b13aa62",
       "version_major": 2,
       "version_minor": 0
      },
      "text/plain": [
       "config.json: 0.00B [00:00, ?B/s]"
      ]
     },
     "metadata": {},
     "output_type": "display_data"
    },
    {
     "name": "stderr",
     "output_type": "stream",
     "text": [
      "c:\\Users\\El-Wattaneya\\AppData\\Local\\Programs\\Python\\Python312\\Lib\\site-packages\\huggingface_hub\\file_download.py:143: UserWarning: `huggingface_hub` cache-system uses symlinks by default to efficiently store duplicated files but your machine does not support them in C:\\Users\\El-Wattaneya\\.cache\\huggingface\\hub\\models--Falconsai--text_summarization. Caching files will still work but in a degraded version that might require more space on your disk. This warning can be disabled by setting the `HF_HUB_DISABLE_SYMLINKS_WARNING` environment variable. For more details, see https://huggingface.co/docs/huggingface_hub/how-to-cache#limitations.\n",
      "To support symlinks on Windows, you either need to activate Developer Mode or to run Python as an administrator. In order to activate developer mode, see this article: https://docs.microsoft.com/en-us/windows/apps/get-started/enable-your-device-for-development\n",
      "  warnings.warn(message)\n"
     ]
    },
    {
     "data": {
      "application/vnd.jupyter.widget-view+json": {
       "model_id": "8a308261174c4dc392d7c9deca67e83c",
       "version_major": 2,
       "version_minor": 0
      },
      "text/plain": [
       "model.safetensors:   0%|          | 0.00/242M [00:00<?, ?B/s]"
      ]
     },
     "metadata": {},
     "output_type": "display_data"
    },
    {
     "data": {
      "application/vnd.jupyter.widget-view+json": {
       "model_id": "467326ecdd2f47b5ad668176fe447c78",
       "version_major": 2,
       "version_minor": 0
      },
      "text/plain": [
       "generation_config.json:   0%|          | 0.00/112 [00:00<?, ?B/s]"
      ]
     },
     "metadata": {},
     "output_type": "display_data"
    },
    {
     "data": {
      "application/vnd.jupyter.widget-view+json": {
       "model_id": "6c1af6dbc5a04539906198f8c69b4a77",
       "version_major": 2,
       "version_minor": 0
      },
      "text/plain": [
       "tokenizer_config.json: 0.00B [00:00, ?B/s]"
      ]
     },
     "metadata": {},
     "output_type": "display_data"
    },
    {
     "data": {
      "application/vnd.jupyter.widget-view+json": {
       "model_id": "7afb744c32d548f5bbfb0401067f7741",
       "version_major": 2,
       "version_minor": 0
      },
      "text/plain": [
       "spiece.model:   0%|          | 0.00/792k [00:00<?, ?B/s]"
      ]
     },
     "metadata": {},
     "output_type": "display_data"
    },
    {
     "data": {
      "application/vnd.jupyter.widget-view+json": {
       "model_id": "94dfef2b6223437580e484bcb47bcce8",
       "version_major": 2,
       "version_minor": 0
      },
      "text/plain": [
       "tokenizer.json: 0.00B [00:00, ?B/s]"
      ]
     },
     "metadata": {},
     "output_type": "display_data"
    },
    {
     "data": {
      "application/vnd.jupyter.widget-view+json": {
       "model_id": "59abe1e6f9c64a759d6fecc1ed58b282",
       "version_major": 2,
       "version_minor": 0
      },
      "text/plain": [
       "special_tokens_map.json: 0.00B [00:00, ?B/s]"
      ]
     },
     "metadata": {},
     "output_type": "display_data"
    },
    {
     "name": "stdout",
     "output_type": "stream",
     "text": [
      "the Nissan Rogue provides me with the desired SUV experience without burdening me with an exorbitant payment . I have hauled 12 bags of mulch in the back with the seats down and could have held more . To address this concern, I am\n"
     ]
    }
   ],
   "source": [
    "summarizer = pipeline(\"summarization\", model=\"Falconsai/text_summarization\")\n",
    "\n",
    "last_review = car_reviews.Review.iloc[-1]\n",
    "summarized_text = summarizer(last_review, max_length=55, min_length=50, do_sample=False)[0]['summary_text']\n",
    "print(summarized_text)"
   ]
  },
  {
   "cell_type": "markdown",
   "id": "cbf95705",
   "metadata": {},
   "source": [
    "# 🧾 Final Notes\n",
    "This prototype demonstrates how LLMs can be adapted for:\n",
    "\n",
    "Automated review analysis\n",
    "\n",
    "Multilingual support\n",
    "\n",
    "Knowledge extraction\n",
    "\n",
    "Text summarization\n",
    "\n",
    "Built with 🤗 Hugging Face by Yahia Zakaria.\n",
    "\n",
    "[GitHub](https://github.com/Yahia20) · [LinkedIn](www.linkedin.com/in/yahia-zakaria-a27384213) "
   ]
  }
 ],
 "metadata": {
  "editor": "DataLab",
  "kernelspec": {
   "display_name": "Python 3",
   "language": "python",
   "name": "python3"
  },
  "language_info": {
   "codemirror_mode": {
    "name": "ipython",
    "version": 3
   },
   "file_extension": ".py",
   "mimetype": "text/x-python",
   "name": "python",
   "nbconvert_exporter": "python",
   "pygments_lexer": "ipython3",
   "version": "3.12.5"
  }
 },
 "nbformat": 4,
 "nbformat_minor": 5
}
